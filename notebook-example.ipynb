{
 "cells": [
  {
   "cell_type": "markdown",
   "id": "aa6ef87e",
   "metadata": {},
   "source": [
    "# Jupyter Notebook Example of Using selfdev-js\n",
    "\n",
    "## Setup\n",
    "\n",
    "This example demonstrates how to use [selfdev-js](https://github.com/ai-az1/selfdev-js.git) in a Jupyter Notebook.\n",
    "\n",
    "1. Make sure you have Node.js, NPM and Jupyter Notebook installed.\n",
    "2. Open a terminal and run the following commands from the terminal.\n",
    "3. Install the tool from NPM: `npm i -g @vuics/selfdev-js`. (TODO: use az1.ai domain)\n",
    "4. Setup the project as written in the [README.md](./README.md).\n",
    "5. Run the `jupyter notebook`, and create a new notebook similar to this one.\n",
    "\n",
    "Then you can use the commands above to interact with Quantum Copilot from the Jupyter Notebook."
   ]
  },
  {
   "cell_type": "code",
   "execution_count": 12,
   "id": "b43390aa-6ce0-40f9-a875-564c81ce3708",
   "metadata": {},
   "outputs": [
    {
     "name": "stdout",
     "output_type": "stream",
     "text": [
      "\u001b[1G\u001b[0K⠙\u001b[1G\u001b[0K⠹\u001b[1G\u001b[0K⠸\u001b[1G\u001b[0K⠼\u001b[1G\u001b[0K⠴\u001b[1G\u001b[0K⠦\u001b[1G\u001b[0K⠧\u001b[1G\u001b[0K⠇\u001b[1G\u001b[0K⠏\u001b[1G\u001b[0K⠋\u001b[1G\u001b[0K⠙\u001b[1G\u001b[0K⠹\u001b[1G\u001b[0K⠸\u001b[1G\u001b[0K⠼\u001b[1G\u001b[0K⠴\u001b[1G\u001b[0K⠦\u001b[1G\u001b[0K⠧\u001b[1G\u001b[0K⠇\u001b[1G\u001b[0K⠏\u001b[1G\u001b[0K⠋\u001b[1G\u001b[0K⠙\u001b[1G\u001b[0K⠹\u001b[1G\u001b[0K⠸\u001b[1G\u001b[0K⠼\u001b[1G\u001b[0K⠴\u001b[1G\u001b[0K⠦\u001b[1G\u001b[0K⠧\u001b[1G\u001b[0K⠇\u001b[1G\u001b[0K⠏\u001b[1G\u001b[0K⠋\u001b[1G\u001b[0K⠙\u001b[1G\u001b[0K⠹\u001b[1G\u001b[0K⠸\u001b[1G\u001b[0K⠼\u001b[1G\u001b[0K⠴\u001b[1G\u001b[0K⠦\u001b[1G\u001b[0K\n",
      "changed 13 packages in 3s\n",
      "\u001b[1G\u001b[0K⠦\u001b[1G\u001b[0K\n",
      "\u001b[1G\u001b[0K⠦\u001b[1G\u001b[0K3 packages are looking for funding\n",
      "\u001b[1G\u001b[0K⠦\u001b[1G\u001b[0K  run `npm fund` for details\n",
      "\u001b[1G\u001b[0K⠦\u001b[1G\u001b[0K"
     ]
    }
   ],
   "source": [
    "!npm i -g @vuics/selfdev-js"
   ]
  },
  {
   "cell_type": "markdown",
   "id": "d78394fd",
   "metadata": {},
   "source": [
    "## Execute\n",
    "\n",
    "You can execute one of the following commands:"
   ]
  },
  {
   "cell_type": "code",
   "execution_count": 1,
   "id": "f64ef5f6",
   "metadata": {},
   "outputs": [
    {
     "name": "stdout",
     "output_type": "stream",
     "text": [
      "No command. Use: selfdev help\n"
     ]
    }
   ],
   "source": [
    "!selfdev"
   ]
  },
  {
   "cell_type": "markdown",
   "id": "0fd72e69",
   "metadata": {},
   "source": [
    "Or:"
   ]
  },
  {
   "cell_type": "code",
   "execution_count": 2,
   "id": "1a9e84de",
   "metadata": {},
   "outputs": [
    {
     "name": "stdout",
     "output_type": "stream",
     "text": [
      "No command. Use: selfdev-js help\n"
     ]
    }
   ],
   "source": [
    "!selfdev-js"
   ]
  },
  {
   "cell_type": "markdown",
   "id": "4fa2eb03",
   "metadata": {},
   "source": [
    "## Get Help\n",
    "\n",
    "You can get help from the command."
   ]
  },
  {
   "cell_type": "code",
   "execution_count": 8,
   "id": "8780eccb",
   "metadata": {},
   "outputs": [
    {
     "name": "stdout",
     "output_type": "stream",
     "text": [
      "\n",
      "selfdev <command> [arguments]\n",
      "\n",
      "Commands:\n",
      "  ask --prompt='text'\n",
      "  mail [--from='email'] [--to='email'] --subject='text' --text='text'\n",
      "\n",
      "Arguments:\n",
      "  -v - verbose mode\n",
      "\n",
      "Examples:\n",
      "  selfdev ask --prompt='What is self-developing AI?'\n",
      "  selfdev mail --to='2@az1.ai' --from='admin@vuics.com' --subject='Email Test' --text='Hello, World!'\n",
      "\n"
     ]
    }
   ],
   "source": [
    "!selfdev help"
   ]
  },
  {
   "cell_type": "markdown",
   "id": "63734153",
   "metadata": {},
   "source": [
    "## Ask Self-developing AI\n",
    "\n",
    "You can ask any questions related to quantum computing."
   ]
  },
  {
   "cell_type": "code",
   "execution_count": 4,
   "id": "e765a5ca",
   "metadata": {},
   "outputs": [
    {
     "name": "stdout",
     "output_type": "stream",
     "text": [
      "Self-developing AI refers to artificial intelligence systems that have the capability to autonomously improve, adapt, or develop their own algorithms and functionalities based on their experiences, interactions, or the data they process. This concept typically encompasses several key features:\n",
      "\n",
      "1. **Learning from Experience**: Self-developing AI can learn from its past actions and the outcomes of those actions, refining its models and strategies over time to enhance performance.\n",
      "\n",
      "2. **Autonomous Improvement**: Such systems can modify their own architecture or algorithms without human intervention to better solve problems or adapt to new environments.\n",
      "\n",
      "3. **Exploration and Exploitation**: They can balance exploring new strategies or approaches (exploration) with leveraging what they already know to maximize performance (exploitation).\n",
      "\n",
      "4. **Continuous Learning**: Self-developing AI systems often employ reinforcement learning or other adaptive methods that allow them to continuously learn and evolve as they encounter new data or scenarios.\n",
      "\n",
      "5. **Meta-Learning**: Sometimes referred to as \"learning to learn,\" this involves creating models that can adapt their learning strategies based on the tasks they are faced with.\n",
      "\n",
      "6. **Generative Models**: Some self-developing AI systems may utilize generative models to create new hypotheses or ideas, which can then be tested and refined.\n",
      "\n",
      "It's important to note that while the idea of self-developing AI is a significant area of research and promises many benefits, it also raises ethical and safety concerns. For example, if AI systems operate without sufficient oversight, they could make decisions that are unintended or harmful. As such, the development and deployment of self-developing AI systems necessitate careful consideration of governance, accountability, and ethical implications.\n"
     ]
    }
   ],
   "source": [
    "!selfdev ask --prompt='What is self-developing AI?'"
   ]
  },
  {
   "cell_type": "markdown",
   "id": "129e366f-a132-4dcb-a4d2-958656e4ba46",
   "metadata": {},
   "source": [
    "## Send an Email\n",
    "\n",
    "You can send an email."
   ]
  },
  {
   "cell_type": "code",
   "execution_count": 10,
   "id": "14223029-e452-4630-b79c-c0881fb9be88",
   "metadata": {},
   "outputs": [
    {
     "name": "stdout",
     "output_type": "stream",
     "text": [
      "{ result: \u001b[32m'ok'\u001b[39m }\n"
     ]
    }
   ],
   "source": [
    "!selfdev mail --to='2@az1.ai' --from='admin@vuics.com' --subject='Email Test' --text='Hello, World!'"
   ]
  },
  {
   "cell_type": "markdown",
   "id": "1d89fd05-e8af-4ea1-a27e-d9ffea106e4d",
   "metadata": {},
   "source": [
    "## Publish a Landing Page\n",
    "\n",
    "You can publish a landing page with HTML code, title, and favicon URL."
   ]
  },
  {
   "cell_type": "code",
   "execution_count": 14,
   "id": "2cf358f0-fdc2-4963-80c9-9a9e3b95b1a6",
   "metadata": {},
   "outputs": [
    {
     "name": "stdout",
     "output_type": "stream",
     "text": [
      "{ result: \u001b[32m'ok'\u001b[39m, landingId: \u001b[32m'676c057b4a9c5414c3f07132'\u001b[39m }\n"
     ]
    }
   ],
   "source": [
    "html=\"\"\"\n",
    "<!DOCTYPE html>\n",
    "<html>\n",
    "<body>\n",
    "\n",
    "<h1>My First Heading</h1>\n",
    "<p>My first paragraph.</p>\n",
    "\n",
    "</body>\n",
    "</html>\n",
    "\"\"\" \n",
    "\n",
    "!selfdev land --title='My Landing Page' --favicon='http://oflisback.github.io/react-favicon/img/github.ico' --body='{html}'"
   ]
  },
  {
   "cell_type": "markdown",
   "id": "b61070b3-8505-4ca1-a241-585151101467",
   "metadata": {},
   "source": [
    "#### Open Landing Page\n",
    "\n",
    "After you get the JSON response from the `selfdev` utility, you can open the web page using the `landingId` value substituting it to the url `http://localhost:3000/landing/{landingId}`.\n",
    "\n",
    "Open [http://localhost:3000/landing/676c057b4a9c5414c3f07132](http://localhost:3000/landing/676c057b4a9c5414c3f07132)."
   ]
  },
  {
   "cell_type": "code",
   "execution_count": null,
   "id": "d2da82d0-ab2b-4a54-ba75-10f8616e5212",
   "metadata": {},
   "outputs": [],
   "source": []
  }
 ],
 "metadata": {
  "kernelspec": {
   "display_name": "Python 3 (ipykernel)",
   "language": "python",
   "name": "python3"
  },
  "language_info": {
   "codemirror_mode": {
    "name": "ipython",
    "version": 3
   },
   "file_extension": ".py",
   "mimetype": "text/x-python",
   "name": "python",
   "nbconvert_exporter": "python",
   "pygments_lexer": "ipython3",
   "version": "3.11.11"
  }
 },
 "nbformat": 4,
 "nbformat_minor": 5
}
