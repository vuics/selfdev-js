{
 "cells": [
  {
   "cell_type": "markdown",
   "id": "aa6ef87e",
   "metadata": {},
   "source": [
    "# Jupyter Notebook Example of Using selfdev-js\n",
    "\n",
    "## Setup\n",
    "\n",
    "This example demonstrates how to use [selfdev-js](https://github.com/ai-az1/selfdev-js.git) in a Jupyter Notebook.\n",
    "\n",
    "1. Make sure you have Node.js, NPM and Jupyter Notebook installed.\n",
    "2. Open a terminal and run the following commands from the terminal.\n",
    "3. Install the tool from NPM: `npm i -g @vuics/selfdev-js`. (TODO: use az1.ai domain)\n",
    "4. Setup the project as written in the [README.md](./README.md).\n",
    "5. Run the `jupyter notebook`, and create a new notebook similar to this one.\n",
    "\n",
    "Then you can use the commands above to interact with Quantum Copilot from the Jupyter Notebook."
   ]
  },
  {
   "cell_type": "code",
   "execution_count": 5,
   "id": "b43390aa-6ce0-40f9-a875-564c81ce3708",
   "metadata": {},
   "outputs": [
    {
     "name": "stdout",
     "output_type": "stream",
     "text": [
      "\u001b[1G\u001b[0K⠙\u001b[1G\u001b[0K⠹\u001b[1G\u001b[0K⠸\u001b[1G\u001b[0K\n",
      "changed 13 packages in 455ms\n",
      "\u001b[1G\u001b[0K⠸\u001b[1G\u001b[0K\n",
      "\u001b[1G\u001b[0K⠸\u001b[1G\u001b[0K3 packages are looking for funding\n",
      "\u001b[1G\u001b[0K⠸\u001b[1G\u001b[0K  run `npm fund` for details\n",
      "\u001b[1G\u001b[0K⠸\u001b[1G\u001b[0K"
     ]
    }
   ],
   "source": [
    "!npm i -g @vuics/selfdev-js"
   ]
  },
  {
   "cell_type": "markdown",
   "id": "d78394fd",
   "metadata": {},
   "source": [
    "## Execute\n",
    "\n",
    "You can execute one of the following commands:"
   ]
  },
  {
   "cell_type": "code",
   "execution_count": 1,
   "id": "f64ef5f6",
   "metadata": {},
   "outputs": [
    {
     "name": "stdout",
     "output_type": "stream",
     "text": [
      "No command. Use: selfdev help\n"
     ]
    }
   ],
   "source": [
    "!selfdev"
   ]
  },
  {
   "cell_type": "markdown",
   "id": "0fd72e69",
   "metadata": {},
   "source": [
    "Or:"
   ]
  },
  {
   "cell_type": "code",
   "execution_count": 2,
   "id": "1a9e84de",
   "metadata": {},
   "outputs": [
    {
     "name": "stdout",
     "output_type": "stream",
     "text": [
      "No command. Use: selfdev-js help\n"
     ]
    }
   ],
   "source": [
    "!selfdev-js"
   ]
  },
  {
   "cell_type": "markdown",
   "id": "4fa2eb03",
   "metadata": {},
   "source": [
    "## Get Help\n",
    "\n",
    "You can get help from the command."
   ]
  },
  {
   "cell_type": "code",
   "execution_count": 3,
   "id": "8780eccb",
   "metadata": {},
   "outputs": [
    {
     "name": "stdout",
     "output_type": "stream",
     "text": [
      "\n",
      "selfdev <command> [arguments]\n",
      "\n",
      "Commands:\n",
      "  ask --prompt='text'\n",
      "\n",
      "Arguments:\n",
      "  -v - verbose mode\n",
      "\n",
      "Examples:\n",
      "  selfdev ask --prompt='What is self-developing AI?'\n",
      "\n"
     ]
    }
   ],
   "source": [
    "!selfdev help"
   ]
  },
  {
   "cell_type": "markdown",
   "id": "63734153",
   "metadata": {},
   "source": [
    "## Ask Self-developing AI\n",
    "\n",
    "You can ask any questions related to quantum computing."
   ]
  },
  {
   "cell_type": "code",
   "execution_count": 4,
   "id": "e765a5ca",
   "metadata": {},
   "outputs": [
    {
     "name": "stdout",
     "output_type": "stream",
     "text": [
      "Self-developing AI refers to artificial intelligence systems that have the capability to autonomously improve, adapt, or develop their own algorithms and functionalities based on their experiences, interactions, or the data they process. This concept typically encompasses several key features:\n",
      "\n",
      "1. **Learning from Experience**: Self-developing AI can learn from its past actions and the outcomes of those actions, refining its models and strategies over time to enhance performance.\n",
      "\n",
      "2. **Autonomous Improvement**: Such systems can modify their own architecture or algorithms without human intervention to better solve problems or adapt to new environments.\n",
      "\n",
      "3. **Exploration and Exploitation**: They can balance exploring new strategies or approaches (exploration) with leveraging what they already know to maximize performance (exploitation).\n",
      "\n",
      "4. **Continuous Learning**: Self-developing AI systems often employ reinforcement learning or other adaptive methods that allow them to continuously learn and evolve as they encounter new data or scenarios.\n",
      "\n",
      "5. **Meta-Learning**: Sometimes referred to as \"learning to learn,\" this involves creating models that can adapt their learning strategies based on the tasks they are faced with.\n",
      "\n",
      "6. **Generative Models**: Some self-developing AI systems may utilize generative models to create new hypotheses or ideas, which can then be tested and refined.\n",
      "\n",
      "It's important to note that while the idea of self-developing AI is a significant area of research and promises many benefits, it also raises ethical and safety concerns. For example, if AI systems operate without sufficient oversight, they could make decisions that are unintended or harmful. As such, the development and deployment of self-developing AI systems necessitate careful consideration of governance, accountability, and ethical implications.\n"
     ]
    }
   ],
   "source": [
    "!selfdev ask --prompt='What is self-developing AI?'"
   ]
  },
  {
   "cell_type": "code",
   "execution_count": null,
   "id": "f0ab9ec1",
   "metadata": {},
   "outputs": [],
   "source": []
  }
 ],
 "metadata": {
  "kernelspec": {
   "display_name": "Python 3 (ipykernel)",
   "language": "python",
   "name": "python3"
  },
  "language_info": {
   "codemirror_mode": {
    "name": "ipython",
    "version": 3
   },
   "file_extension": ".py",
   "mimetype": "text/x-python",
   "name": "python",
   "nbconvert_exporter": "python",
   "pygments_lexer": "ipython3",
   "version": "3.11.11"
  }
 },
 "nbformat": 4,
 "nbformat_minor": 5
}
