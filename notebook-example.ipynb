{
 "cells": [
  {
   "cell_type": "markdown",
   "id": "aa6ef87e",
   "metadata": {},
   "source": [
    "# Jupyter Notebook Example of Using selfdev-js\n",
    "\n",
    "## Setup\n",
    "\n",
    "This example demonstrates how to use [selfdev-js](https://github.com/ai-az1/selfdev-js.git) in a Jupyter Notebook.\n",
    "\n",
    "1. Make sure you have Node.js, NPM and Jupyter Notebook installed.\n",
    "2. Open a terminal and run the following commands from the terminal.\n",
    "3. Install the tool from NPM: `npm i -g @vuics/selfdev-js`. (TODO: use az1.ai domain)\n",
    "4. Setup the project as written in the [README.md](./README.md).\n",
    "5. Run the `jupyter notebook`, and create a new notebook similar to this one.\n",
    "\n",
    "Then you can use the commands above to interact with Quantum Copilot from the Jupyter Notebook."
   ]
  },
  {
   "cell_type": "markdown",
   "id": "d78394fd",
   "metadata": {},
   "source": [
    "## Execute\n",
    "\n",
    "You can execute one of the following commands:"
   ]
  },
  {
   "cell_type": "code",
   "execution_count": 9,
   "id": "f64ef5f6",
   "metadata": {},
   "outputs": [
    {
     "name": "stdout",
     "output_type": "stream",
     "text": [
      "No command. Use: qc help\r\n"
     ]
    }
   ],
   "source": [
    "!selfdev"
   ]
  },
  {
   "cell_type": "markdown",
   "id": "0fd72e69",
   "metadata": {},
   "source": [
    "Or:"
   ]
  },
  {
   "cell_type": "code",
   "execution_count": 13,
   "id": "1a9e84de",
   "metadata": {},
   "outputs": [
    {
     "name": "stdout",
     "output_type": "stream",
     "text": [
      "No command. Use: qcopilot-js help\r\n"
     ]
    }
   ],
   "source": [
    "!selfdev-js"
   ]
  },
  {
   "cell_type": "markdown",
   "id": "4fa2eb03",
   "metadata": {},
   "source": [
    "## Get Help\n",
    "\n",
    "You can get help from the command."
   ]
  },
  {
   "cell_type": "code",
   "execution_count": null,
   "id": "8780eccb",
   "metadata": {},
   "outputs": [],
   "source": [
    "!selfdev help"
   ]
  },
  {
   "cell_type": "markdown",
   "id": "63734153",
   "metadata": {},
   "source": [
    "## Ask Quantum Copilot\n",
    "\n",
    "You can ask any questions related to quantum computing."
   ]
  },
  {
   "cell_type": "code",
   "execution_count": null,
   "id": "e765a5ca",
   "metadata": {},
   "outputs": [],
   "source": [
    "!selfdev ask --prompt='What is self-developing AI?'"
   ]
  },
  {
   "cell_type": "markdown",
   "id": "3b4840c4",
   "metadata": {},
   "source": [
    "Or you can use run the code in one line. "
   ]
  },
  {
   "cell_type": "code",
   "execution_count": null,
   "id": "f0ab9ec1",
   "metadata": {},
   "outputs": [],
   "source": []
  }
 ],
 "metadata": {
  "kernelspec": {
   "display_name": "Python 3 (ipykernel)",
   "language": "python",
   "name": "python3"
  },
  "language_info": {
   "codemirror_mode": {
    "name": "ipython",
    "version": 3
   },
   "file_extension": ".py",
   "mimetype": "text/x-python",
   "name": "python",
   "nbconvert_exporter": "python",
   "pygments_lexer": "ipython3",
   "version": "3.11.11"
  }
 },
 "nbformat": 4,
 "nbformat_minor": 5
}
